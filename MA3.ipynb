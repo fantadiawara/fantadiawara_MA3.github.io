{
  "nbformat": 4,
  "nbformat_minor": 0,
  "metadata": {
    "colab": {
      "provenance": []
    },
    "kernelspec": {
      "name": "python3",
      "display_name": "Python 3"
    },
    "language_info": {
      "name": "python"
    }
  },
  "cells": [
    {
      "cell_type": "code",
      "execution_count": null,
      "metadata": {
        "colab": {
          "base_uri": "https://localhost:8080/"
        },
        "id": "jwPTpl-eZkb2",
        "outputId": "7b3b8e96-3f1d-48b7-fb90-a59813dcdbf4"
      },
      "outputs": [
        {
          "output_type": "stream",
          "name": "stdout",
          "text": [
            "JSON file created at author_network_with_details_fixed.json\n"
          ]
        }
      ],
      "source": [
        "import pandas as pd\n",
        "import json\n",
        "\n",
        "# Load the CSV file\n",
        "file_path = \"data_scopus.csv\"  # Replace with the actual path to your file\n",
        "data = pd.read_csv('data_scopus.csv')\n",
        "\n",
        "# Filter out rows with missing values in essential columns\n",
        "filtered_data = data.dropna(subset=['Authors', 'Year', 'Authors with affiliations'])\n",
        "\n",
        "# Initialize containers for nodes and links\n",
        "nodes = {}\n",
        "links = []\n",
        "\n",
        "# Function to extract the country from the affiliation string\n",
        "def extract_country(affiliation):\n",
        "    # Assuming country is the last part after the last comma\n",
        "    parts = affiliation.split(\",\")\n",
        "    return parts[-1].strip() if len(parts) > 1 else \"Unknown\"\n",
        "\n",
        "# Iterate through rows to create nodes and links\n",
        "for _, row in filtered_data.iterrows():\n",
        "    authors = row['Authors'].split(\", \")  # Split authors into a list\n",
        "    affiliations = row['Authors with affiliations'].split(\"; \")  # Split affiliations\n",
        "    year = row['Year']\n",
        "\n",
        "    # Match authors to affiliations\n",
        "    for i, author in enumerate(authors):\n",
        "        if i < len(affiliations):  # Ensure matching exists\n",
        "            affiliation = affiliations[i]\n",
        "            country = extract_country(affiliation)\n",
        "        else:\n",
        "            affiliation = \"Unknown\"\n",
        "            country = \"Unknown\"\n",
        "\n",
        "        # Create or update nodes\n",
        "        if author not in nodes:\n",
        "            nodes[author] = {\n",
        "                \"id\": author,\n",
        "                \"name\": author,\n",
        "                \"country\": country,\n",
        "                \"affiliation\": affiliation\n",
        "            }\n",
        "\n",
        "    # Create links between co-authors\n",
        "    for i, source in enumerate(authors):\n",
        "        for j, target in enumerate(authors):\n",
        "            if i < j:  # Avoid duplicate links\n",
        "                links.append({\"source\": source, \"target\": target, \"year\": year})\n",
        "\n",
        "# Ensure all authors in links are in nodes\n",
        "for link in links:\n",
        "    if link['source'] not in nodes:\n",
        "        nodes[link['source']] = {\"id\": link['source'], \"name\": link['source'], \"country\": \"Unknown\", \"affiliation\": \"Unknown\"}\n",
        "    if link['target'] not in nodes:\n",
        "        nodes[link['target']] = {\"id\": link['target'], \"name\": link['target'], \"country\": \"Unknown\", \"affiliation\": \"Unknown\"}\n",
        "\n",
        "# Convert nodes dictionary to a list\n",
        "nodes_list = list(nodes.values())\n",
        "\n",
        "# Create final JSON structure\n",
        "author_network_data = {\"nodes\": nodes_list, \"links\": links}\n",
        "\n",
        "# Save to JSON file\n",
        "output_path = \"author_network_with_details_fixed.json\"  # Replace with your desired file path\n",
        "with open(output_path, \"w\") as json_file:\n",
        "    json.dump(author_network_data, json_file, indent=4)\n",
        "\n",
        "print(f\"JSON file created at {output_path}\")\n"
      ]
    }
  ]
}